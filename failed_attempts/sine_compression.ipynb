{
 "cells": [
  {
   "cell_type": "code",
   "execution_count": 1,
   "metadata": {},
   "outputs": [],
   "source": [
    "from tensorflow.keras.datasets import mnist\n",
    "import matplotlib.pyplot as plt\n",
    "import matplotlib.cm as cm\n",
    "import seaborn as sb\n",
    "import numpy as np"
   ]
  },
  {
   "cell_type": "code",
   "execution_count": 2,
   "metadata": {},
   "outputs": [],
   "source": [
    "# load the full dataset and display it\n",
    "(train_X, train_y), (test_X, test_y) = mnist.load_data()\n",
    "targetimage = train_X[0]"
   ]
  },
  {
   "cell_type": "code",
   "execution_count": 3,
   "metadata": {},
   "outputs": [
    {
     "data": {
      "image/png": "[encoded data removed]",
      "text/plain": [
       "<Figure size 200x200 with 1 Axes>"
      ]
     },
     "metadata": {},
     "output_type": "display_data"
    }
   ],
   "source": [
    "fig, ax = plt.subplots(figsize=(2,2),layout=\"constrained\")\n",
    "\n",
    "ax.imshow(targetimage.reshape((28,28)), interpolation='none', cmap=cm.Greys)\n",
    "ax.axis('off')\n",
    "plt.suptitle(f\"Sample Image\")\n",
    "plt.show()"
   ]
  },
  {
   "cell_type": "code",
   "execution_count": 4,
   "metadata": {},
   "outputs": [],
   "source": [
    "def feature_scale(data_unscaled, scaled=True):\n",
    "    if scaled == False:\n",
    "        return data_unscaled\n",
    "\n",
    "    max_value = np.max(data_unscaled)\n",
    "\n",
    "    data_scaled = np.array(data_unscaled)\n",
    "    data_scaled = data_scaled / max_value\n",
    "    # min max normalization\n",
    "    \n",
    "    return data_scaled\n",
    "\n",
    "targetimage = feature_scale(targetimage, scaled=True)"
   ]
  },
  {
   "cell_type": "code",
   "execution_count": 5,
   "metadata": {},
   "outputs": [],
   "source": [
    "targetimage = targetimage.flatten().astype(np.float64)\n",
    "pixels = len(targetimage)\n",
    "xcoordinates = np.arange(0, pixels).astype(np.float64)"
   ]
  },
  {
   "cell_type": "code",
   "execution_count": 6,
   "metadata": {},
   "outputs": [],
   "source": [
    "def predict(x, ampweights, periodweights, horizonalweights, wave_samples, epsilon=1e-15): # all are vectors\n",
    "    coordinates = len(x)\n",
    "    xmat = np.repeat(x, wave_samples).reshape((-1, wave_samples))\n",
    "    ampweightsmat = np.tile(ampweights, coordinates).reshape((coordinates, -1))\n",
    "    periodweightsmat = np.tile(periodweights, coordinates).reshape((coordinates, -1))\n",
    "    horizonalweightsmat = np.tile(horizonalweights, coordinates).reshape((coordinates, -1))\n",
    "    \n",
    "    combined_waves = ampweightsmat * np.sin(xmat * periodweightsmat + horizonalweightsmat)\n",
    "    summed_waves = np.sum(combined_waves,axis=1)\n",
    "\n",
    "    return summed_waves # vector"
   ]
  },
  {
   "cell_type": "code",
   "execution_count": 7,
   "metadata": {},
   "outputs": [],
   "source": [
    "def inference(x, ampweights, periodweights, horizonalweights, wave_samples):\n",
    "    prediction = predict(x, ampweights, periodweights, horizonalweights, wave_samples)\n",
    "    return np.clip(prediction, 0.0, 1.0)"
   ]
  },
  {
   "cell_type": "code",
   "execution_count": 8,
   "metadata": {},
   "outputs": [],
   "source": [
    "def mse_cost(x, y, ampweights, periodweights, horizonalweights, wave_samples):\n",
    "    coordinates = len(x)\n",
    "    prediction = predict(x, ampweights, periodweights, horizonalweights, wave_samples)\n",
    "    error = prediction - y\n",
    "\n",
    "    return np.dot(error, error) / (2*coordinates)"
   ]
  },
  {
   "cell_type": "code",
   "execution_count": 9,
   "metadata": {},
   "outputs": [],
   "source": [
    "def compute_gradients(x, y, ampweights, periodweights, horizonalweights, wave_samples):\n",
    "    coordinates = len(x)\n",
    "    xmat = np.repeat(x, wave_samples).reshape((-1, wave_samples))\n",
    "    ampweightsmat = np.tile(ampweights, coordinates).reshape((coordinates, -1))\n",
    "    periodweightsmat = np.tile(periodweights, coordinates).reshape((coordinates, -1))\n",
    "    horizonalweightsmat = np.tile(horizonalweights, coordinates).reshape((coordinates, -1))\n",
    "    \n",
    "    amp_partials =  np.sin(xmat * periodweightsmat + horizonalweightsmat)\n",
    "    period_partials = xmat * ampweightsmat * np.cos(xmat * periodweightsmat + horizonalweightsmat)\n",
    "    horizonal_partials = ampweightsmat * np.cos(xmat * periodweightsmat + horizonalweightsmat)\n",
    "\n",
    "    prediction = predict(x, ampweights, periodweights, horizonalweights, wave_samples)\n",
    "    error = prediction - y\n",
    "    errorT = error.reshape((-1,1))\n",
    "\n",
    "    daw = np.sum(errorT * amp_partials, axis=0) / coordinates\n",
    "    dpw = np.sum(errorT * period_partials, axis=0) / coordinates\n",
    "    dhw = np.sum(errorT * horizonal_partials, axis=0) / coordinates\n",
    "\n",
    "    return daw, dpw, dhw"
   ]
  },
  {
   "cell_type": "code",
   "execution_count": 10,
   "metadata": {},
   "outputs": [],
   "source": [
    "def show_cost_graph(costs, title, color):\n",
    "    iterations = costs.shape[0]\n",
    "    iteration_array = np.arange(0, iterations, dtype=np.int32)\n",
    "    \n",
    "    # graph the cost after updating the model\n",
    "    _, cost_graph = plt.subplots(layout='constrained')\n",
    "    \n",
    "    cost_graph.set_xlabel(\"Epoch\")\n",
    "    cost_graph.set_ylabel(\"Cost\")\n",
    "    \n",
    "    cost_graph.set_title(title)\n",
    "    \n",
    "    cost_graph.plot(iteration_array, costs, color=color)"
   ]
  },
  {
   "cell_type": "code",
   "execution_count": 11,
   "metadata": {},
   "outputs": [
    {
     "data": {
      "image/png": "[encoded data removed]",
      "text/plain": [
       "<Figure size 640x480 with 1 Axes>"
      ]
     },
     "metadata": {},
     "output_type": "display_data"
    }
   ],
   "source": [
    "def gradient_descent(x, y, gradient_func, cost_func, wave_samples, learning_rate=0.01, max_iterations=1000):\n",
    "    # ampweights = np.random.random(wave_samples)\n",
    "    # periodweights = np.random.random(wave_samples)\n",
    "    # horizonalweights = np.random.random(wave_samples)\n",
    "    \n",
    "    ampweights = np.ones(wave_samples)\n",
    "    periodweights = np.ones(wave_samples)\n",
    "    horizonalweights = np.zeros(wave_samples)\n",
    "\n",
    "    costs = np.empty(0)\n",
    "\n",
    "    for _ in range(max_iterations):\n",
    "        daw,dpw,dhw = gradient_func(x, y, ampweights, periodweights, horizonalweights, wave_samples)\n",
    "\n",
    "        ampweights -= learning_rate * daw\n",
    "        periodweights -= learning_rate * dpw\n",
    "        horizonalweights -= learning_rate * dhw\n",
    "        \n",
    "        current_cost = cost_func(x, y, ampweights, periodweights, horizonalweights, wave_samples)\n",
    "        costs = np.append(costs, current_cost)\n",
    "    return ampweights, periodweights, horizonalweights, costs\n",
    "wave_samples = 50\n",
    "ampweights, periodweights, horizonalweights, costs = gradient_descent(xcoordinates, targetimage, compute_gradients, mse_cost, wave_samples=wave_samples, learning_rate=0.01, max_iterations=100)\n",
    "show_cost_graph(costs, \"Sine Compressor Loss\", \"red\")"
   ]
  },
  {
   "cell_type": "markdown",
   "metadata": {},
   "source": [
    "Cost function is really bad. MSE on sine waves are most likely not convex so cost doesn't really improve after awhile."
   ]
  },
  {
   "cell_type": "code",
   "execution_count": 12,
   "metadata": {},
   "outputs": [
    {
     "name": "stdout",
     "output_type": "stream",
     "text": [
      "Initial cost 351.33159329319386\n",
      "Final cost 0.05820818206344424\n"
     ]
    }
   ],
   "source": [
    "print(\"Initial cost\", costs[0])\n",
    "print(\"Final cost\", costs[-1])"
   ]
  },
  {
   "cell_type": "code",
   "execution_count": 13,
   "metadata": {},
   "outputs": [],
   "source": [
    "predicted_image = inference(xcoordinates, ampweights, periodweights, horizonalweights, wave_samples)"
   ]
  },
  {
   "cell_type": "code",
   "execution_count": 14,
   "metadata": {},
   "outputs": [
    {
     "data": {
      "image/png": "[encoded data removed]",
      "text/plain": [
       "<Figure size 200x200 with 1 Axes>"
      ]
     },
     "metadata": {},
     "output_type": "display_data"
    },
    {
     "data": {
      "image/png": "[encoded data removed]",
      "text/plain": [
       "<Figure size 200x200 with 1 Axes>"
      ]
     },
     "metadata": {},
     "output_type": "display_data"
    }
   ],
   "source": [
    "fig, ax = plt.subplots(figsize=(2,2),layout=\"constrained\")\n",
    "\n",
    "ax.imshow(targetimage.reshape((28,28)), interpolation='none', cmap=cm.Greys)\n",
    "ax.axis('off')\n",
    "plt.suptitle(f\"Sample Image\")\n",
    "plt.show()\n",
    "\n",
    "fig, ax = plt.subplots(figsize=(2,2),layout=\"constrained\")\n",
    "\n",
    "ax.imshow(predicted_image.reshape((28,28)), interpolation='none', cmap=cm.Greys)\n",
    "ax.axis('off')\n",
    "plt.suptitle(f\"Sample Image\")\n",
    "plt.show()"
   ]
  },
  {
   "cell_type": "markdown",
   "metadata": {},
   "source": [
    "Using sum of sine waves as regression doesn't work as the cost function isn't exactly convex. In fact, after some research, there is no easy way to use a convex version for the cost function. So this is why it can't represent the full image. Next thing is to use fourier series as feature engineering and linear regression to achieve image compression. "
   ]
  }
 ],
 "metadata": {
  "kernelspec": {
   "display_name": "Python 3",
   "language": "python",
   "name": "python3"
  },
  "language_info": {
   "codemirror_mode": {
    "name": "ipython",
    "version": 3
   },
   "file_extension": ".py",
   "mimetype": "text/x-python",
   "name": "python",
   "nbconvert_exporter": "python",
   "pygments_lexer": "ipython3",
   "version": "3.12.3"
  }
 },
 "nbformat": 4,
 "nbformat_minor": 2
}
