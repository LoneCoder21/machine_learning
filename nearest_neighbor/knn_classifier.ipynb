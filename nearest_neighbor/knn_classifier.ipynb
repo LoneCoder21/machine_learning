{
 "cells": [
  {
   "cell_type": "code",
   "execution_count": 59,
   "metadata": {},
   "outputs": [],
   "source": [
    "%matplotlib widget\n",
    "\n",
    "from sklearn.datasets import fetch_covtype\n",
    "from sklearn.metrics import accuracy_score\n",
    "from sklearn.model_selection import train_test_split\n",
    "import matplotlib.pyplot as plt\n",
    "import numpy as np"
   ]
  },
  {
   "cell_type": "code",
   "execution_count": 60,
   "metadata": {},
   "outputs": [],
   "source": [
    "# load the full dataset and display it\n",
    "dataset = fetch_covtype(shuffle=True) # make sure to shuffle the data so no local patterns emerge\n",
    "feature_names = dataset.feature_names\n",
    "target_names = dataset.target_names\n",
    "data = dataset.data\n",
    "target = dataset.target"
   ]
  },
  {
   "cell_type": "markdown",
   "metadata": {},
   "source": [
    "Now, we showcase k nearest neighbor algorithm. The idea is the same as simple classifier. Instead of choosing the category based on the closest points, we choose the most common category based on the k nearest points."
   ]
  },
  {
   "cell_type": "code",
   "execution_count": 61,
   "metadata": {},
   "outputs": [
    {
     "name": "stdout",
     "output_type": "stream",
     "text": [
      "Train: (389278, 54) (389278,)\n",
      "Test: (191734, 54) (191734,)\n"
     ]
    }
   ],
   "source": [
    "X_train, X_test, y_train, y_test = train_test_split(data, target, test_size=0.33, random_state=1)\n",
    "print(\"Train:\", X_train.shape, y_train.shape)\n",
    "print(\"Test:\", X_test.shape, y_test.shape)"
   ]
  },
  {
   "cell_type": "code",
   "execution_count": 62,
   "metadata": {},
   "outputs": [],
   "source": [
    "def predict_point(x, y, point, k):\n",
    "    point = point.reshape((1,-1))\n",
    "    x = x - point # mxn\n",
    "    x2 = x**2 # squared euclidean distances\n",
    "    dist_squared = np.sum(x2,axis=1) # add up all the squared euclidean distances\n",
    "\n",
    "    k_indices = np.argsort(dist_squared)[:k] # get only the indices of the k minimum distances\n",
    "    categories = np.take(y, k_indices) # get the categories associated with the k indices\n",
    "    category = np.argmax(np.bincount(categories)) # pick the most frequent category within the k categories\n",
    "\n",
    "    return category # return the class associated with the k closest points"
   ]
  },
  {
   "cell_type": "code",
   "execution_count": 63,
   "metadata": {},
   "outputs": [],
   "source": [
    "def predict_points(x, y, points, k):\n",
    "    # same thing as predict_point but we handle multiple points now along with k points\n",
    "    mp = points.shape[0]\n",
    "    categories = np.zeros((mp))\n",
    "    for i in range(mp):\n",
    "        categories[i] = predict_point(x,y,points[i],k) # use predict_point we defined\n",
    "    return categories"
   ]
  },
  {
   "cell_type": "code",
   "execution_count": 64,
   "metadata": {},
   "outputs": [
    {
     "name": "stdout",
     "output_type": "stream",
     "text": [
      "Accuracy: 95.0 %\n"
     ]
    }
   ],
   "source": [
    "samples = 100\n",
    "predictions = predict_points(X_train, y_train, X_test[:samples], 10) # try only 100 points from the testing set with k=10\n",
    "accuracy = accuracy_score(predictions, y_test[:samples]) # compute the accuracy\n",
    "print(\"Accuracy:\",accuracy*100,\"%\") # show the accuracy"
   ]
  },
  {
   "cell_type": "markdown",
   "metadata": {},
   "source": [
    "Interesting, accuracy is also nearly the same as simple classifer. Let's use higher k values and see if accuracy improves."
   ]
  },
  {
   "cell_type": "code",
   "execution_count": 65,
   "metadata": {},
   "outputs": [
    {
     "name": "stdout",
     "output_type": "stream",
     "text": [
      "Accuracy: 81.0 %\n"
     ]
    }
   ],
   "source": [
    "samples = 100\n",
    "predictions = predict_points(X_train, y_train, X_test[:samples], 100) # try only 100 points from the testing set with k=100 points now\n",
    "accuracy = accuracy_score(predictions, y_test[:samples]) # compute the accuracy\n",
    "print(\"Accuracy:\",accuracy*100,\"%\") # show the accuracy"
   ]
  },
  {
   "cell_type": "markdown",
   "metadata": {},
   "source": [
    "Interesting, it became much worse with k=100. Let's try lowering it and see what happens."
   ]
  },
  {
   "cell_type": "code",
   "execution_count": 68,
   "metadata": {},
   "outputs": [
    {
     "name": "stdout",
     "output_type": "stream",
     "text": [
      "K values to test: [ 1 13 26 38 50]\n"
     ]
    }
   ],
   "source": [
    "kvalues = np.round(np.linspace(1,50,5)).astype(np.int32)\n",
    "print(\"K values to test:\",kvalues)"
   ]
  },
  {
   "cell_type": "code",
   "execution_count": 69,
   "metadata": {},
   "outputs": [
    {
     "name": "stdout",
     "output_type": "stream",
     "text": [
      "Accuracy for k=1 - 95.0%\n",
      "Accuracy for k=13 - 94.0%\n",
      "Accuracy for k=26 - 88.0%\n",
      "Accuracy for k=38 - 82.0%\n",
      "Accuracy for k=50 - 84.0%\n"
     ]
    }
   ],
   "source": [
    "for i in range(kvalues.shape[0]):\n",
    "    samples = 100\n",
    "    predictions = predict_points(X_train, y_train, X_test[:samples], kvalues[i]) # try only 100 points from the testing set with k=100 points now\n",
    "    accuracy = accuracy_score(predictions, y_test[:samples]) # compute the accuracy\n",
    "    print(f\"Accuracy for k={kvalues[i]} - {accuracy*100}%\") # show the accuracy"
   ]
  },
  {
   "cell_type": "markdown",
   "metadata": {},
   "source": [
    "This is really surprising. When k increases, the accuracy goes down. This means that this dataset is already very aligned and easily distinguishable to the fact we don't even need the k nearest neighbor. In many other datasets, it's better to go with k nearest neighbor in case there are many other outliers. "
   ]
  }
 ],
 "metadata": {
  "kernelspec": {
   "display_name": "Python 3",
   "language": "python",
   "name": "python3"
  },
  "language_info": {
   "codemirror_mode": {
    "name": "ipython",
    "version": 3
   },
   "file_extension": ".py",
   "mimetype": "text/x-python",
   "name": "python",
   "nbconvert_exporter": "python",
   "pygments_lexer": "ipython3",
   "version": "3.12.3"
  }
 },
 "nbformat": 4,
 "nbformat_minor": 2
}
