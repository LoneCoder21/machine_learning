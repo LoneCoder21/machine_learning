{
 "cells": [
  {
   "cell_type": "code",
   "execution_count": 1,
   "id": "056fb015-4bbe-4a9b-aaff-807521615581",
   "metadata": {},
   "outputs": [],
   "source": [
    "%matplotlib widget\n",
    "\n",
    "from sklearn.datasets import load_diabetes\n",
    "from sklearn.linear_model import SGDRegressor\n",
    "from sklearn.pipeline import make_pipeline\n",
    "from sklearn.preprocessing import StandardScaler\n",
    "import matplotlib.pyplot as plt\n",
    "import numpy as np"
   ]
  },
  {
   "cell_type": "code",
   "execution_count": 2,
   "id": "45a43b1c-732b-4264-8a47-658221a81058",
   "metadata": {},
   "outputs": [
    {
     "name": "stdout",
     "output_type": "stream",
     "text": [
      "float64 float64\n",
      "(442, 10)\n",
      "['age', 'sex', 'bmi', 'bp', 's1', 's2', 's3', 's4', 's5', 's6']\n",
      "[[59.      2.     32.1    ...  4.      4.8598 87.    ]\n",
      " [48.      1.     21.6    ...  3.      3.8918 69.    ]\n",
      " [72.      2.     30.5    ...  4.      4.6728 85.    ]\n",
      " ...\n",
      " [60.      2.     24.9    ...  3.77    4.1271 95.    ]\n",
      " [36.      1.     30.     ...  4.79    5.1299 85.    ]\n",
      " [36.      1.     19.6    ...  3.      4.5951 92.    ]]\n"
     ]
    }
   ],
   "source": [
    "diabetes = load_diabetes(scaled=False) # disable Feature Scaling\n",
    "data_unscaled = diabetes.data # (m x n) (examples x features)\n",
    "\n",
    "severity = diabetes.target.reshape((-1,1)) # output of severity of diabetes or disease progression\n",
    "# mx1\n",
    "\n",
    "print(data_unscaled.dtype, severity.dtype) # show datatypes of input and output\n",
    "print(data_unscaled.shape) # show shape of input\n",
    "print(diabetes.feature_names) # show feature names associated with input\n",
    "print(data_unscaled) # show unscaled data itself"
   ]
  },
  {
   "cell_type": "code",
   "execution_count": 3,
   "id": "edc4bdea-ce88-4826-8427-9f97ac06023a",
   "metadata": {},
   "outputs": [],
   "source": [
    "def predict(w,b,x):\n",
    "    m = x.shape[0] # number of training examples\n",
    "    n = x.shape[1] # number of features\n",
    "    \n",
    "    prediction = np.matmul(x, w) + b\n",
    "    return prediction"
   ]
  },
  {
   "cell_type": "code",
   "execution_count": 4,
   "id": "dd4a067c-254a-44a5-b162-f5ae3293dcd9",
   "metadata": {},
   "outputs": [],
   "source": [
    "def mse_cost(w,b,x,y):\n",
    "    m = x.shape[0] # number of training examples\n",
    "    n = x.shape[1] # number of features\n",
    "    \n",
    "    prediction = np.matmul(x, w) + b\n",
    "    error = prediction - y\n",
    "    error = error.reshape((-1)) # make it m (1d array) from mx1\n",
    "    \n",
    "    return np.dot(error, error) / (2*m)"
   ]
  },
  {
   "cell_type": "code",
   "execution_count": 5,
   "id": "dc77e925-90c6-4c3a-b504-1f4ad70d1566",
   "metadata": {},
   "outputs": [],
   "source": [
    "def compute_gradient(w,b,x,y):\n",
    "    m = x.shape[0] # number of training examples\n",
    "    n = x.shape[1] # number of features\n",
    "\n",
    "    # w = nx1\n",
    "    # b = 1\n",
    "    # x = mxn\n",
    "    # y = mx1\n",
    "    \n",
    "    prediction = np.matmul(x, w) + b # mx1\n",
    "    error = prediction - y # mx1\n",
    "    \n",
    "    xT = np.transpose(x) # nxm\n",
    "    dw = np.matmul(xT, error) / m # nx1\n",
    "    db = np.sum(error) / m # 1\n",
    "\n",
    "    return dw, db"
   ]
  },
  {
   "cell_type": "markdown",
   "id": "5a29f995-f48c-4c29-b709-6a6568823366",
   "metadata": {},
   "source": [
    "Showcase z score normalization feature scaling. Feature scaling is actually very easy with numpy. By taking mean and standard deviation of all columns (axis 0) we can just do a matrix subtract and division to get the data in one single step. This is a direct translation of the z score formula and makes it very simple to implement using numpy. Sigma is standard deviation and u is mean in the formula below.\n",
    "\n",
    "$z=(x-u)/\\sigma$"
   ]
  },
  {
   "cell_type": "code",
   "execution_count": 6,
   "id": "572ead30-e1a6-4a40-b41e-3485d36010b0",
   "metadata": {},
   "outputs": [
    {
     "name": "stdout",
     "output_type": "stream",
     "text": [
      "[[ 0.80050009  1.06548848  1.29708846 ... -0.05449919  0.41853093\n",
      "  -0.37098854]\n",
      " [-0.03956713 -0.93853666 -1.08218016 ... -0.83030083 -1.43658851\n",
      "  -1.93847913]\n",
      " [ 1.79330681  1.06548848  0.93453324 ... -0.05449919  0.06015558\n",
      "  -0.54515416]\n",
      " ...\n",
      " [ 0.87686984  1.06548848 -0.33441002 ... -0.23293356 -0.98564884\n",
      "   0.32567395]\n",
      " [-0.9560041  -0.93853666  0.82123474 ...  0.55838411  0.93616291\n",
      "  -0.54515416]\n",
      " [-0.9560041  -0.93853666 -1.53537419 ... -0.83030083 -0.08875225\n",
      "   0.06442552]]\n"
     ]
    }
   ],
   "source": [
    "def feature_scale(data_unscaled):\n",
    "    mu = np.mean(data_unscaled, axis=0)\n",
    "    std = np.std(data_unscaled, axis=0)\n",
    "\n",
    "    data_scaled = np.array(data_unscaled)\n",
    "    data_scaled = (data_scaled - mu) / std\n",
    "    # z score normalization\n",
    "    \n",
    "    return data_scaled\n",
    "\n",
    "data = feature_scale(data_unscaled)\n",
    "print(data) # show scaled features"
   ]
  },
  {
   "cell_type": "code",
   "execution_count": 7,
   "id": "554bee48-878a-4058-8955-22d8e42d4d92",
   "metadata": {},
   "outputs": [],
   "source": [
    "m = data.shape[0] # number of training examples\n",
    "n = data.shape[1] # number of features\n",
    "\n",
    "w = np.zeros((n,1)) # n features\n",
    "b = 0\n",
    "# initialize model parameters\n",
    "\n",
    "a=0.3\n",
    "max_iterations=20\n",
    "iteration = np.empty(0, dtype=np.uint)\n",
    "costs = np.empty(0)\n",
    "\n",
    "for i in range(max_iterations):\n",
    "    dw, db = compute_gradient(w,b,data,severity)\n",
    "    \n",
    "    w-=a*dw\n",
    "    b-=a*db\n",
    "    # update the weights\n",
    "    \n",
    "    iteration = np.append(iteration, i)\n",
    "    current_cost = mse_cost(w,b,data,severity)\n",
    "    costs = np.append(costs, current_cost)\n",
    "    # add to array for visualization"
   ]
  },
  {
   "cell_type": "markdown",
   "id": "1c7e5e47-01ac-4dc7-b73f-e26de3265fb7",
   "metadata": {},
   "source": [
    "Also I tried running gradient descent without feature scaling and the weights basically exploded to huge values and after just a few iterations, gradient descent stopped working. \n",
    "These are called exploding gradients.\n",
    "Eventually, I just re-enabled feature scaling and gradient descent works nicely again."
   ]
  },
  {
   "cell_type": "code",
   "execution_count": 8,
   "id": "223c0a49-7386-4a56-a748-2e3c55cdede3",
   "metadata": {},
   "outputs": [
    {
     "data": {
      "text/plain": [
       "[<matplotlib.lines.Line2D at 0x21971071520>]"
      ]
     },
     "execution_count": 8,
     "metadata": {},
     "output_type": "execute_result"
    },
    {
     "data": {
      "application/vnd.jupyter.widget-view+json": {
       "model_id": "7318b2fee4c649809d04eb793e7d0005",
       "version_major": 2,
       "version_minor": 0
      },
      "image/png": "[encoded data removed]",
      "text/html": [
       "\n",
       "            <div style=\"display: inline-block;\">\n",
       "                <div class=\"jupyter-widgets widget-label\" style=\"text-align: center;\">\n",
       "                    Figure\n",
       "                </div>\n",
       "                <img src='data:image/png;base64,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' width=640.0/>\n",
       "            </div>\n",
       "        "
      ],
      "text/plain": [
       "Canvas(toolbar=Toolbar(toolitems=[('Home', 'Reset original view', 'home', 'home'), ('Back', 'Back to previous …"
      ]
     },
     "metadata": {},
     "output_type": "display_data"
    }
   ],
   "source": [
    "iteration = iteration[1:]\n",
    "costs = costs[1:]\n",
    "\n",
    "# graph the cost after updating the model\n",
    "fig, cost_graph = plt.subplots(layout='constrained')\n",
    "\n",
    "cost_graph.set_xlabel(\"Current Iteration\")\n",
    "cost_graph.set_ylabel(\"Cost\")\n",
    "\n",
    "cost_graph.plot(iteration, costs, color=\"r\")"
   ]
  },
  {
   "cell_type": "markdown",
   "id": "f27918ec-72ed-41ce-a8d0-ca15ea6ea052",
   "metadata": {},
   "source": [
    "Cost Graph over Gradient Descent Iterations. "
   ]
  },
  {
   "cell_type": "code",
   "execution_count": 9,
   "id": "16362e70-f5a9-4ab1-8332-b7fb9d13bc69",
   "metadata": {},
   "outputs": [
    {
     "name": "stdout",
     "output_type": "stream",
     "text": [
      "w: [ -0.31058692 -11.28489499  25.1561175   15.32166059  -3.32594522\n",
      "  -5.28368843  -9.74582834   5.51432538  22.30061411   3.55625362]\n",
      "b: 152.01209340808492\n",
      "1st Cost: 4362.218875929123\n",
      "Nth Cost: 1440.128507475917\n"
     ]
    }
   ],
   "source": [
    "print(\"w:\", w.reshape((-1)))\n",
    "print(\"b:\", b)\n",
    "print(\"1st Cost:\", costs[0])\n",
    "print(\"Nth Cost:\", costs[-1])"
   ]
  },
  {
   "cell_type": "markdown",
   "id": "4826c7ad-fc8d-4041-bad6-d24be5410b6e",
   "metadata": {},
   "source": [
    "Only around 20 iterations are needed with feature scaling in this situation. It looks way too short. "
   ]
  }
 ],
 "metadata": {
  "kernelspec": {
   "display_name": "Python 3 (ipykernel)",
   "language": "python",
   "name": "python3"
  },
  "language_info": {
   "codemirror_mode": {
    "name": "ipython",
    "version": 3
   },
   "file_extension": ".py",
   "mimetype": "text/x-python",
   "name": "python",
   "nbconvert_exporter": "python",
   "pygments_lexer": "ipython3",
   "version": "3.12.3"
  }
 },
 "nbformat": 4,
 "nbformat_minor": 5
}
