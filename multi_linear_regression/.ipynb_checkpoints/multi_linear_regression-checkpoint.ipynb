{
 "cells": [
  {
   "cell_type": "code",
   "execution_count": 102,
   "id": "056fb015-4bbe-4a9b-aaff-807521615581",
   "metadata": {},
   "outputs": [],
   "source": [
    "from sklearn.datasets import load_diabetes\n",
    "from sklearn.linear_model import SGDRegressor\n",
    "from sklearn.pipeline import make_pipeline\n",
    "from sklearn.preprocessing import StandardScaler\n",
    "import matplotlib.pyplot as plt\n",
    "import numpy as np"
   ]
  },
  {
   "cell_type": "code",
   "execution_count": 86,
   "id": "45a43b1c-732b-4264-8a47-658221a81058",
   "metadata": {},
   "outputs": [
    {
     "name": "stdout",
     "output_type": "stream",
     "text": [
      "float64 float64\n",
      "(442, 10)\n",
      "['age', 'sex', 'bmi', 'bp', 's1', 's2', 's3', 's4', 's5', 's6']\n",
      "[[ 0.03807591  0.05068012  0.06169621 ... -0.00259226  0.01990749\n",
      "  -0.01764613]\n",
      " [-0.00188202 -0.04464164 -0.05147406 ... -0.03949338 -0.06833155\n",
      "  -0.09220405]\n",
      " [ 0.08529891  0.05068012  0.04445121 ... -0.00259226  0.00286131\n",
      "  -0.02593034]\n",
      " ...\n",
      " [ 0.04170844  0.05068012 -0.01590626 ... -0.01107952 -0.04688253\n",
      "   0.01549073]\n",
      " [-0.04547248 -0.04464164  0.03906215 ...  0.02655962  0.04452873\n",
      "  -0.02593034]\n",
      " [-0.04547248 -0.04464164 -0.0730303  ... -0.03949338 -0.00422151\n",
      "   0.00306441]]\n"
     ]
    }
   ],
   "source": [
    "diabetes = load_diabetes(scaled=True) # enable Feature Scaling\n",
    "data = diabetes.data # (m x n) (examples x features)\n",
    "\n",
    "severity = diabetes.target.reshape((-1,1)) # output of severity of diabetes or disease progression\n",
    "# mx1\n",
    "\n",
    "print(data.dtype, severity.dtype) # show datatypes of input and output\n",
    "print(data.shape) # show shape of input\n",
    "print(diabetes.feature_names) # show feature names associated with input\n",
    "print(data)# show data itself"
   ]
  },
  {
   "cell_type": "code",
   "execution_count": 87,
   "id": "dd4a067c-254a-44a5-b162-f5ae3293dcd9",
   "metadata": {},
   "outputs": [],
   "source": [
    "def mse_cost(w,b,x,y):\n",
    "    m = x.shape[0] # number of training examples\n",
    "    n = x.shape[1] # number of features\n",
    "    \n",
    "    prediction = np.matmul(x, w) + b\n",
    "    error = prediction - y\n",
    "    error = error.reshape((-1)) # make it m (1d array) from mx1\n",
    "    \n",
    "    return np.dot(error, error) / (2*m)"
   ]
  },
  {
   "cell_type": "code",
   "execution_count": 88,
   "id": "b28b035a-5ccf-4021-b92f-08be215b46d9",
   "metadata": {},
   "outputs": [],
   "source": [
    "def compute_gradient(w,b,x,y):\n",
    "    m = x.shape[0] # number of training examples\n",
    "    n = x.shape[1] # number of features\n",
    "\n",
    "    # w = nx1\n",
    "    # b = 1\n",
    "    # x = mxn\n",
    "    # y = mx1\n",
    "    \n",
    "    prediction = np.matmul(x, w) + b # mx1\n",
    "    error = prediction - y # mx1\n",
    "    error = error.reshape((1,-1)) # make it 1xm from mx1\n",
    "\n",
    "    dw = np.matmul(error, x) / m # 1xn\n",
    "    db = np.sum(error) / m # 1\n",
    "\n",
    "    dw = dw.reshape((-1,1)) # nx1\n",
    "    return dw, db"
   ]
  },
  {
   "cell_type": "markdown",
   "id": "d4861329-d7bb-4fc1-bda5-d7f6556b7e48",
   "metadata": {},
   "source": [
    "Above is my custom implementation of computing gradients and cost.\n",
    "I realized i had to reshape a lot of data to make it work with vectorization.\n",
    "Much of it was reshaping 1d matrices back to vectors. But there is a better way below."
   ]
  },
  {
   "cell_type": "code",
   "execution_count": 97,
   "id": "dc77e925-90c6-4c3a-b504-1f4ad70d1566",
   "metadata": {},
   "outputs": [],
   "source": [
    "def compute_gradient_better(w,b,x,y):\n",
    "    m = x.shape[0] # number of training examples\n",
    "    n = x.shape[1] # number of features\n",
    "\n",
    "    # w = nx1\n",
    "    # b = 1\n",
    "    # x = mxn\n",
    "    # y = mx1\n",
    "    \n",
    "    prediction = np.matmul(x, w) + b # mx1\n",
    "    error = prediction - y # mx1\n",
    "    \n",
    "    xT = np.transpose(x) # nxm\n",
    "    dw = np.matmul(xT, error) / m # nx1\n",
    "    db = np.sum(error) / m # 1\n",
    "\n",
    "    return dw, db"
   ]
  },
  {
   "cell_type": "markdown",
   "id": "0a1820dc-97e8-477f-981c-187b3ccce164",
   "metadata": {},
   "source": [
    "This new gradient code above is from https://towardsdatascience.com/vectorization-implementation-in-machine-learning-ca652920c55d\n",
    "From this I learned that instead of reshaping matrices, we can transpose them instead and common operations like dot products become matrix multiplications.\n",
    "This approach is also intuitive as it can be directly translated from math where a reshape is less obvious."
   ]
  },
  {
   "cell_type": "code",
   "execution_count": 98,
   "id": "554bee48-878a-4058-8955-22d8e42d4d92",
   "metadata": {},
   "outputs": [],
   "source": [
    "m = data.shape[0] # number of training examples\n",
    "n = data.shape[1] # number of features\n",
    "\n",
    "w = np.zeros((n,1)) # n features\n",
    "b = 0\n",
    "# initialize model parameters\n",
    "\n",
    "a=0.3\n",
    "max_iterations=5000\n",
    "iteration = np.empty(0, dtype=np.uint)\n",
    "costs = np.empty(0)\n",
    "\n",
    "for i in range(max_iterations):\n",
    "    dw, db = compute_gradient(w,b,data,severity)\n",
    "    \n",
    "    w-=a*dw\n",
    "    b-=a*db\n",
    "    # update the weights\n",
    "    \n",
    "    iteration = np.append(iteration, i)\n",
    "    current_cost = mse_cost(w,b,data,severity)\n",
    "    costs = np.append(costs, current_cost)\n",
    "    # add to array for visualization"
   ]
  },
  {
   "cell_type": "markdown",
   "id": "1c7e5e47-01ac-4dc7-b73f-e26de3265fb7",
   "metadata": {},
   "source": [
    "Also I tried running gradient descent without feature scaling and the weights basically exploded to huge values and after just a few iterations, gradient descent stopped working. \n",
    "These are called exploding gradients.\n",
    "Eventually, I just re-enabled feature scaling and gradient descent works nicely again."
   ]
  },
  {
   "cell_type": "code",
   "execution_count": 99,
   "id": "223c0a49-7386-4a56-a748-2e3c55cdede3",
   "metadata": {},
   "outputs": [
    {
     "data": {
      "text/plain": [
       "[<matplotlib.lines.Line2D at 0x2cccff861b0>]"
      ]
     },
     "execution_count": 99,
     "metadata": {},
     "output_type": "execute_result"
    },
    {
     "data": {
      "image/png": "[encoded data removed]",
      "text/plain": [
       "<Figure size 640x480 with 1 Axes>"
      ]
     },
     "metadata": {},
     "output_type": "display_data"
    }
   ],
   "source": [
    "iteration = iteration[10:]\n",
    "costs = costs[10:]\n",
    "\n",
    "# graph the cost after updating the model\n",
    "fig, cost_graph = plt.subplots(layout='constrained')\n",
    "\n",
    "cost_graph.set_xlabel(\"Current Iteration\")\n",
    "cost_graph.set_ylabel(\"Cost\")\n",
    "\n",
    "cost_graph.plot(iteration, costs, color=\"r\")"
   ]
  },
  {
   "cell_type": "markdown",
   "id": "f27918ec-72ed-41ce-a8d0-ca15ea6ea052",
   "metadata": {},
   "source": [
    "Cost Graph over Gradient Descent Iterations"
   ]
  },
  {
   "cell_type": "code",
   "execution_count": 101,
   "id": "16362e70-f5a9-4ab1-8332-b7fb9d13bc69",
   "metadata": {},
   "outputs": [
    {
     "name": "stdout",
     "output_type": "stream",
     "text": [
      "w: [  -2.46599763 -225.01427119  515.18188625  315.32548313  -54.0633404\n",
      " -117.13314535 -208.24751658  122.23408093  438.87518952   97.14937745]\n",
      "b: 152.133484162896\n",
      "1st Cost: 2906.5011616297534\n",
      "Nth Cost: 1442.1449690343827\n"
     ]
    }
   ],
   "source": [
    "print(\"w:\", w.reshape((-1)))\n",
    "print(\"b:\", b)\n",
    "print(\"1st Cost:\", costs[0])\n",
    "print(\"Nth Cost:\", costs[-1])"
   ]
  },
  {
   "cell_type": "markdown",
   "id": "6a7deb5b-d811-4d99-a448-af527b33dd35",
   "metadata": {},
   "source": [
    "Firstly, the cost is definitely better than simple linear regression. Cost for it was around ~2K but here it is around ~1.5K.\n",
    "This shows that having multiple features is better than single feature only."
   ]
  },
  {
   "cell_type": "markdown",
   "id": "e99a1e0a-00dd-4a2b-9d14-f90367dda55e",
   "metadata": {},
   "source": [
    "More importantly however, The weights are actually huge even with feature scaling enabled. \n",
    "This is most likely because the severity (output) values are also huge. \n",
    "This also explains why the gradients blew up. Because without the feature scaling, gradients become too big to store in float64 data type."
   ]
  },
  {
   "cell_type": "markdown",
   "id": "9589c4c6-4eaf-442d-b7a2-5a445b7d6727",
   "metadata": {},
   "source": [
    "Time to use SGDRegressor to verify"
   ]
  },
  {
   "cell_type": "code",
   "execution_count": 122,
   "id": "ae059551-0580-434d-af30-32c7daa1d455",
   "metadata": {},
   "outputs": [
    {
     "name": "stdout",
     "output_type": "stream",
     "text": [
      "SGD Cost: 1439.4746578951901\n"
     ]
    }
   ],
   "source": [
    "sgd = SGDRegressor(max_iter=5000, penalty=None) # variable learning rate\n",
    "reg = make_pipeline(StandardScaler(), sgd)\n",
    "reg.fit(data, severity.reshape((-1)))\n",
    "sgdout = reg.predict(data).reshape((-1,1))\n",
    "\n",
    "sgderror = (sgdout - severity).reshape((-1)) # compute errors from sgd predictions and actual values\n",
    "sgdcost = np.dot(sgderror, sgderror) / (2*m) # compute minimized final cost\n",
    "print(\"SGD Cost:\", sgdcost)"
   ]
  },
  {
   "cell_type": "markdown",
   "id": "9fa8e4df-ecac-4c76-b54a-668a23ff78cb",
   "metadata": {},
   "source": [
    "Nice, the cost for SGD is very close to the custom gradient descent cost. \n",
    "Time to rank the features and see which features are more correlated to the output."
   ]
  },
  {
   "cell_type": "code",
   "execution_count": 131,
   "id": "cb1e3cdf-c6e9-456f-9e27-6fbeae6191e1",
   "metadata": {},
   "outputs": [
    {
     "name": "stdout",
     "output_type": "stream",
     "text": [
      "['age', 'sex', 'bmi', 'bp', 's1', 's2', 's3', 's4', 's5', 's6']\n",
      "[0.0011767  0.10737    0.24582921 0.15046378 0.02579739 0.05589239\n",
      " 0.09936941 0.05832641 0.20941796 0.04635674]\n"
     ]
    }
   ],
   "source": [
    "feature_names = diabetes.feature_names\n",
    "print(feature_names) # show feature names associated with input\n",
    "\n",
    "w=w.reshape(-1)\n",
    "w=np.abs(w)\n",
    "wp = w / np.sum(w)\n",
    "print(wp)"
   ]
  },
  {
   "cell_type": "code",
   "execution_count": 132,
   "id": "f348317d-389f-425b-94d0-786058efb4bb",
   "metadata": {},
   "outputs": [
    {
     "data": {
      "text/plain": [
       "Text(0, 0.5, 'Importance')"
      ]
     },
     "execution_count": 132,
     "metadata": {},
     "output_type": "execute_result"
    },
    {
     "data": {
      "image/png": "[encoded data removed]",
      "text/plain": [
       "<Figure size 640x480 with 1 Axes>"
      ]
     },
     "metadata": {},
     "output_type": "display_data"
    }
   ],
   "source": [
    "fig, ax = plt.subplots()\n",
    "ax.bar(feature_names, wp, width=1, edgecolor=\"white\", linewidth=0.7)\n",
    "ax.set_ylabel(\"Importance\")"
   ]
  },
  {
   "cell_type": "markdown",
   "id": "15a99cab-dd35-4993-beed-81f574bbb8e6",
   "metadata": {},
   "source": [
    "From this, its clear that sex, bmi, bp and s5 are features that definitely influence the severity. \n",
    "It's also interesting that age doesn't really influence the severity. \n",
    "This makes sense because the visualization in simple linear regression also shows the same detail."
   ]
  },
  {
   "cell_type": "markdown",
   "id": "9100710f-2927-4162-924f-40efff9a8aeb",
   "metadata": {},
   "source": [
    "Time to show residual plot, pair plots, 3d scatter plots, correlation heatmap for start"
   ]
  }
 ],
 "metadata": {
  "kernelspec": {
   "display_name": "Python 3 (ipykernel)",
   "language": "python",
   "name": "python3"
  },
  "language_info": {
   "codemirror_mode": {
    "name": "ipython",
    "version": 3
   },
   "file_extension": ".py",
   "mimetype": "text/x-python",
   "name": "python",
   "nbconvert_exporter": "python",
   "pygments_lexer": "ipython3",
   "version": "3.12.3"
  }
 },
 "nbformat": 4,
 "nbformat_minor": 5
}
