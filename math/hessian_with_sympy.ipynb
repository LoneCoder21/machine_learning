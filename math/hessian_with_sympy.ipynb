{
 "cells": [
  {
   "cell_type": "code",
   "execution_count": 305,
   "metadata": {},
   "outputs": [],
   "source": [
    "import sympy as sp"
   ]
  },
  {
   "cell_type": "markdown",
   "metadata": {},
   "source": [
    "I'm trying out sympy to compute derivatives of the mse cost function. Normally, I would do this manually, but I wanted to see how the 2nd derivative of mse looks like. Also, I wanted to learn a little bit about sympy. Looking at the newton's method made me more curious about the 2nd derivative and how it can be used."
   ]
  },
  {
   "cell_type": "code",
   "execution_count": 306,
   "metadata": {},
   "outputs": [
    {
     "name": "stdout",
     "output_type": "stream",
     "text": [
      "(m, n) (m, 1) (n, 1)\n"
     ]
    }
   ],
   "source": [
    "i, m, n = sp.symbols('i m n', integer=True)\n",
    "X = sp.MatrixSymbol('X', m, n)\n",
    "Y = sp.MatrixSymbol('Y', m, 1)\n",
    "w = sp.MatrixSymbol('w', n, 1)\n",
    "\n",
    "print(X.shape,Y.shape,w.shape)"
   ]
  },
  {
   "cell_type": "markdown",
   "metadata": {},
   "source": [
    "We define the symbols like this. MatrixSymbol is convenient as well for defining matrix symbols. "
   ]
  },
  {
   "cell_type": "code",
   "execution_count": 307,
   "metadata": {},
   "outputs": [
    {
     "data": {
      "text/latex": [
       "$\\displaystyle \\frac{\\sum_{i=0}^{m - 1} \\left(- Y_{i, 0} + \\sum_{i_{1}=0}^{n - 1} X_{i, i_{1}} w_{i_{1}, 0}\\right)^{2}}{2 m}$"
      ],
      "text/plain": [
       " m - 1                                              \n",
       "_______                                             \n",
       "╲                                                   \n",
       " ╲                                                  \n",
       "  ╲                                                2\n",
       "   ╲    ⎛             n - 1                       ⎞ \n",
       "    ╲   ⎜              ___                        ⎟ \n",
       "     ╲  ⎜              ╲                          ⎟ \n",
       "     ╱  ⎜               ╲                         ⎟ \n",
       "    ╱   ⎜-(Y)[i, 0] +   ╱    (X)[i, i₁]⋅(w)[i₁, 0]⎟ \n",
       "   ╱    ⎜              ╱                          ⎟ \n",
       "  ╱     ⎜              ‾‾‾                        ⎟ \n",
       " ╱      ⎝             i₁ = 0                      ⎠ \n",
       "╱                                                   \n",
       "‾‾‾‾‾‾‾                                             \n",
       " i = 0                                              \n",
       "────────────────────────────────────────────────────\n",
       "                        2⋅m                         "
      ]
     },
     "metadata": {},
     "output_type": "display_data"
    },
    {
     "name": "stdout",
     "output_type": "stream",
     "text": [
      "\\frac{\\sum_{i=0}^{m - 1} \\left(- Y_{i, 0} + \\sum_{i_{1}=0}^{n - 1} X_{i, i_{1}} w_{i_{1}, 0}\\right)^{2}}{2 m}\n"
     ]
    }
   ],
   "source": [
    "cost = sp.summation(((X[i,:]*w)[0,0]-Y[i,0])**2, (i, 0, m-1)) / (2*m)\n",
    "display(cost)\n",
    "print(sp.latex(cost))"
   ]
  },
  {
   "cell_type": "markdown",
   "metadata": {},
   "source": [
    "Here, we write the cost function as an expression and symbols. The output looks really good and it surprises me that sympy can understand summations and simplifies a lot. I also show the latex in the second line. Normally, sympy can handle generalized matrix sizes like we have, but in order to see the derivatives, we have to leak the sizes of the matrices. This can be any size as long as it's sufficiently explaining. Therefore, we choose the 1st 3 weights and take the 1st derivatives to get a good understanding. "
   ]
  },
  {
   "cell_type": "code",
   "execution_count": 308,
   "metadata": {},
   "outputs": [
    {
     "data": {
      "text/latex": [
       "$\\displaystyle \\left[\\begin{matrix}\\frac{\\sum_{i=0}^{m - 1} \\left(- Y_{i, 0} + \\sum_{i_{1}=0}^{n - 1} X_{i, i_{1}} w_{i_{1}, 0}\\right) X_{i, 0}}{m} & \\frac{\\sum_{i=0}^{m - 1} \\left(- Y_{i, 0} + \\sum_{i_{1}=0}^{n - 1} X_{i, i_{1}} w_{i_{1}, 0}\\right) X_{i, 1}}{m} & \\frac{\\sum_{i=0}^{m - 1} \\left(- Y_{i, 0} + \\sum_{i_{1}=0}^{n - 1} X_{i, i_{1}} w_{i_{1}, 0}\\right) X_{i, 2}}{m}\\end{matrix}\\right]$"
      ],
      "text/plain": [
       "⎡m - 1                                                         m - 1          \n",
       "⎢______                                                        ______         \n",
       "⎢╲                                                             ╲              \n",
       "⎢ ╲     ⎛             n - 1                       ⎞             ╲     ⎛       \n",
       "⎢  ╲    ⎜              ___                        ⎟              ╲    ⎜       \n",
       "⎢   ╲   ⎜              ╲                          ⎟               ╲   ⎜       \n",
       "⎢    ╲  ⎜               ╲                         ⎟                ╲  ⎜       \n",
       "⎢    ╱  ⎜-(Y)[i, 0] +   ╱    (X)[i, i₁]⋅(w)[i₁, 0]⎟⋅(X)[i, 0]      ╱  ⎜-(Y)[i,\n",
       "⎢   ╱   ⎜              ╱                          ⎟               ╱   ⎜       \n",
       "⎢  ╱    ⎜              ‾‾‾                        ⎟              ╱    ⎜       \n",
       "⎢ ╱     ⎝             i₁ = 0                      ⎠             ╱     ⎝       \n",
       "⎢╱                                                             ╱              \n",
       "⎢‾‾‾‾‾‾                                                        ‾‾‾‾‾‾         \n",
       "⎢i = 0                                                         i = 0          \n",
       "⎢────────────────────────────────────────────────────────────  ───────────────\n",
       "⎣                             m                                               \n",
       "\n",
       "                                               m - 1                          \n",
       "                                               ______                         \n",
       "                                               ╲                              \n",
       "      n - 1                       ⎞             ╲     ⎛             n - 1     \n",
       "       ___                        ⎟              ╲    ⎜              ___      \n",
       "       ╲                          ⎟               ╲   ⎜              ╲        \n",
       "        ╲                         ⎟                ╲  ⎜               ╲       \n",
       " 0] +   ╱    (X)[i, i₁]⋅(w)[i₁, 0]⎟⋅(X)[i, 1]      ╱  ⎜-(Y)[i, 0] +   ╱    (X)\n",
       "       ╱                          ⎟               ╱   ⎜              ╱        \n",
       "       ‾‾‾                        ⎟              ╱    ⎜              ‾‾‾      \n",
       "      i₁ = 0                      ⎠             ╱     ⎝             i₁ = 0    \n",
       "                                               ╱                              \n",
       "                                               ‾‾‾‾‾‾                         \n",
       "                                               i = 0                          \n",
       "─────────────────────────────────────────────  ───────────────────────────────\n",
       "              m                                                             m \n",
       "\n",
       "                             ⎤\n",
       "                             ⎥\n",
       "                             ⎥\n",
       "                  ⎞          ⎥\n",
       "                  ⎟          ⎥\n",
       "                  ⎟          ⎥\n",
       "                  ⎟          ⎥\n",
       "[i, i₁]⋅(w)[i₁, 0]⎟⋅(X)[i, 2]⎥\n",
       "                  ⎟          ⎥\n",
       "                  ⎟          ⎥\n",
       "                  ⎠          ⎥\n",
       "                             ⎥\n",
       "                             ⎥\n",
       "                             ⎥\n",
       "─────────────────────────────⎥\n",
       "                             ⎦"
      ]
     },
     "metadata": {},
     "output_type": "display_data"
    },
    {
     "name": "stdout",
     "output_type": "stream",
     "text": [
      "\\left[\\begin{matrix}\\frac{\\sum_{i=0}^{m - 1} \\left(- Y_{i, 0} + \\sum_{i_{1}=0}^{n - 1} X_{i, i_{1}} w_{i_{1}, 0}\\right) X_{i, 0}}{m} & \\frac{\\sum_{i=0}^{m - 1} \\left(- Y_{i, 0} + \\sum_{i_{1}=0}^{n - 1} X_{i, i_{1}} w_{i_{1}, 0}\\right) X_{i, 1}}{m} & \\frac{\\sum_{i=0}^{m - 1} \\left(- Y_{i, 0} + \\sum_{i_{1}=0}^{n - 1} X_{i, i_{1}} w_{i_{1}, 0}\\right) X_{i, 2}}{m}\\end{matrix}\\right]\n"
     ]
    }
   ],
   "source": [
    "d1 = sp.derive_by_array(cost, [w[i,0] for i in range(3)]) # only use the first 3 weights for display convenience\n",
    "d1 = sp.simplify(d1)\n",
    "display(d1)\n",
    "print(sp.latex(d1))"
   ]
  },
  {
   "cell_type": "markdown",
   "metadata": {},
   "source": [
    "Output is really nice. Lot of cancellations happen here and this is the same equation we have for linear regression partial derivatives. Next, we do the same thing and compute the 2nd derivatives also on the 1st 3 weights."
   ]
  },
  {
   "cell_type": "code",
   "execution_count": 309,
   "metadata": {},
   "outputs": [
    {
     "data": {
      "text/latex": [
       "$\\displaystyle \\left[\\begin{matrix}\\frac{\\sum_{i=0}^{m - 1} X_{i, 0}^{2}}{m} & \\frac{\\sum_{i=0}^{m - 1} X_{i, 0} X_{i, 1}}{m} & \\frac{\\sum_{i=0}^{m - 1} X_{i, 0} X_{i, 2}}{m}\\\\\\frac{\\sum_{i=0}^{m - 1} X_{i, 0} X_{i, 1}}{m} & \\frac{\\sum_{i=0}^{m - 1} X_{i, 1}^{2}}{m} & \\frac{\\sum_{i=0}^{m - 1} X_{i, 1} X_{i, 2}}{m}\\\\\\frac{\\sum_{i=0}^{m - 1} X_{i, 0} X_{i, 2}}{m} & \\frac{\\sum_{i=0}^{m - 1} X_{i, 1} X_{i, 2}}{m} & \\frac{\\sum_{i=0}^{m - 1} X_{i, 2}^{2}}{m}\\end{matrix}\\right]$"
      ],
      "text/plain": [
       "⎡    m - 1                  m - 1                      m - 1                  \n",
       "⎢     ___                    ___                        ___                   \n",
       "⎢     ╲                      ╲                          ╲                     \n",
       "⎢      ╲      2               ╲                          ╲                    \n",
       "⎢      ╱   (X) [i, 0]         ╱   (X)[i, 0]⋅(X)[i, 1]    ╱   (X)[i, 0]⋅(X)[i, \n",
       "⎢     ╱                      ╱                          ╱                     \n",
       "⎢     ‾‾‾                    ‾‾‾                        ‾‾‾                   \n",
       "⎢    i = 0                  i = 0                      i = 0                  \n",
       "⎢    ────────────────       ─────────────────────────  ───────────────────────\n",
       "⎢           m                           m                          m          \n",
       "⎢                                                                             \n",
       "⎢m - 1                          m - 1                  m - 1                  \n",
       "⎢ ___                            ___                    ___                   \n",
       "⎢ ╲                              ╲                      ╲                     \n",
       "⎢  ╲                              ╲      2               ╲                    \n",
       "⎢  ╱   (X)[i, 0]⋅(X)[i, 1]        ╱   (X) [i, 1]         ╱   (X)[i, 1]⋅(X)[i, \n",
       "⎢ ╱                              ╱                      ╱                     \n",
       "⎢ ‾‾‾                            ‾‾‾                    ‾‾‾                   \n",
       "⎢i = 0                          i = 0                  i = 0                  \n",
       "⎢─────────────────────────      ────────────────       ───────────────────────\n",
       "⎢            m                         m                           m          \n",
       "⎢                                                                             \n",
       "⎢m - 1                      m - 1                          m - 1              \n",
       "⎢ ___                        ___                            ___               \n",
       "⎢ ╲                          ╲                              ╲                 \n",
       "⎢  ╲                          ╲                              ╲      2         \n",
       "⎢  ╱   (X)[i, 0]⋅(X)[i, 2]    ╱   (X)[i, 1]⋅(X)[i, 2]        ╱   (X) [i, 2]   \n",
       "⎢ ╱                          ╱                              ╱                 \n",
       "⎢ ‾‾‾                        ‾‾‾                            ‾‾‾               \n",
       "⎢i = 0                      i = 0                          i = 0              \n",
       "⎢─────────────────────────  ─────────────────────────      ────────────────   \n",
       "⎣            m                          m                         m           \n",
       "\n",
       "  ⎤\n",
       "  ⎥\n",
       "  ⎥\n",
       "  ⎥\n",
       "2]⎥\n",
       "  ⎥\n",
       "  ⎥\n",
       "  ⎥\n",
       "──⎥\n",
       "  ⎥\n",
       "  ⎥\n",
       "  ⎥\n",
       "  ⎥\n",
       "  ⎥\n",
       "  ⎥\n",
       "2]⎥\n",
       "  ⎥\n",
       "  ⎥\n",
       "  ⎥\n",
       "──⎥\n",
       "  ⎥\n",
       "  ⎥\n",
       "  ⎥\n",
       "  ⎥\n",
       "  ⎥\n",
       "  ⎥\n",
       "  ⎥\n",
       "  ⎥\n",
       "  ⎥\n",
       "  ⎥\n",
       "  ⎥\n",
       "  ⎦"
      ]
     },
     "metadata": {},
     "output_type": "display_data"
    },
    {
     "name": "stdout",
     "output_type": "stream",
     "text": [
      "\\left[\\begin{matrix}\\frac{\\sum_{i=0}^{m - 1} X_{i, 0}^{2}}{m} & \\frac{\\sum_{i=0}^{m - 1} X_{i, 0} X_{i, 1}}{m} & \\frac{\\sum_{i=0}^{m - 1} X_{i, 0} X_{i, 2}}{m}\\\\\\frac{\\sum_{i=0}^{m - 1} X_{i, 0} X_{i, 1}}{m} & \\frac{\\sum_{i=0}^{m - 1} X_{i, 1}^{2}}{m} & \\frac{\\sum_{i=0}^{m - 1} X_{i, 1} X_{i, 2}}{m}\\\\\\frac{\\sum_{i=0}^{m - 1} X_{i, 0} X_{i, 2}}{m} & \\frac{\\sum_{i=0}^{m - 1} X_{i, 1} X_{i, 2}}{m} & \\frac{\\sum_{i=0}^{m - 1} X_{i, 2}^{2}}{m}\\end{matrix}\\right]\n"
     ]
    }
   ],
   "source": [
    "d2 = sp.derive_by_array(d1, [w[i,0] for i in range(3)]) # only use the first 3 weights for display convenience\n",
    "d2 = sp.simplify(d2)\n",
    "display(d2)\n",
    "print(sp.latex(d2))"
   ]
  },
  {
   "cell_type": "markdown",
   "metadata": {},
   "source": [
    "Wow, everything is really simplified and compressed. The expressions for the 2nd derivatives are really simple. Additionally, this matrix is symmetric so half of the matrix can be precomputed and stored in memory and the rest of the matrix is a reflection of that half. "
   ]
  },
  {
   "cell_type": "markdown",
   "metadata": {},
   "source": [
    "$$\n",
    "[\\frac{dJ}{dw_{0,0}} \\space \\frac{dJ}{dw_{1,0}} \\space \\frac{dJ}{dw_{2,0}}] \\\\\\\\\n",
    "[\\frac{dJ}{dw_{0,1}} \\space \\frac{dJ}{dw_{1,1}} \\space \\frac{dJ}{dw_{2,1}}] \\\\\\\\\n",
    "[\\frac{dJ}{dw_{0,2}} \\space \\frac{dJ}{dw_{1,2}} \\space \\frac{dJ}{dw_{2,2}}] \\\\\\\\\n",
    "$$"
   ]
  },
  {
   "cell_type": "markdown",
   "metadata": {},
   "source": [
    "These are the 2nd derivatives the output is representing. Typically, taking 2nd derivatives of a function and writing it in a matrix is called the hessian. What we just got is the transpose of the hessian. So if we take the transpose of our matrix, then we get the hessian matrix for the MSE. "
   ]
  },
  {
   "cell_type": "markdown",
   "metadata": {},
   "source": [
    "$\\mathbf H_f= \\begin{bmatrix}\n",
    "  \\dfrac{\\partial^2 f}{\\partial x_1^2} & \\dfrac{\\partial^2 f}{\\partial x_1\\,\\partial x_2} & \\cdots & \\dfrac{\\partial^2 f}{\\partial x_1\\,\\partial x_n} \\\\[2.2ex]\n",
    "  \\dfrac{\\partial^2 f}{\\partial x_2\\,\\partial x_1} & \\dfrac{\\partial^2 f}{\\partial x_2^2} & \\cdots & \\dfrac{\\partial^2 f}{\\partial x_2\\,\\partial x_n} \\\\[2.2ex]\n",
    "  \\vdots & \\vdots & \\ddots & \\vdots \\\\[2.2ex]\n",
    "  \\dfrac{\\partial^2 f}{\\partial x_n\\,\\partial x_1} & \\dfrac{\\partial^2 f}{\\partial x_n\\,\\partial x_2} & \\cdots & \\dfrac{\\partial^2 f}{\\partial x_n^2}\n",
    "\\end{bmatrix}.$"
   ]
  },
  {
   "cell_type": "markdown",
   "metadata": {},
   "source": [
    "Here's what the hessian looks like for reference. This is from the wikipedia page https://en.wikipedia.org/wiki/Hessian_matrix.\n",
    "We can now use this to do other computations like newton's method. Overall, sympy is incredible. Not having to manually do the derivatives is really powerful and time saving. It can even evaluate the values after symbolic manipulation. Additionally, the library is really easy to use and all of this was achieved with only a few lines of code. :)"
   ]
  }
 ],
 "metadata": {
  "kernelspec": {
   "display_name": "Python 3",
   "language": "python",
   "name": "python3"
  },
  "language_info": {
   "codemirror_mode": {
    "name": "ipython",
    "version": 3
   },
   "file_extension": ".py",
   "mimetype": "text/x-python",
   "name": "python",
   "nbconvert_exporter": "python",
   "pygments_lexer": "ipython3",
   "version": "3.12.3"
  }
 },
 "nbformat": 4,
 "nbformat_minor": 2
}
