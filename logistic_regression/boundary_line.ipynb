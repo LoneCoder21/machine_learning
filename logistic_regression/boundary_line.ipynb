{
 "cells": [
  {
   "cell_type": "code",
   "execution_count": 282,
   "id": "056fb015-4bbe-4a9b-aaff-807521615581",
   "metadata": {},
   "outputs": [],
   "source": [
    "%matplotlib widget\n",
    "\n",
    "from sklearn.datasets import load_iris\n",
    "from sklearn.linear_model import SGDRegressor\n",
    "from sklearn.pipeline import make_pipeline\n",
    "from sklearn.preprocessing import StandardScaler\n",
    "import matplotlib.pyplot as plt\n",
    "import numpy as np"
   ]
  },
  {
   "cell_type": "code",
   "execution_count": 283,
   "id": "45a43b1c-732b-4264-8a47-658221a81058",
   "metadata": {},
   "outputs": [],
   "source": [
    "# load the full dataset and display it\n",
    "dataset = load_iris()\n",
    "names = dataset.feature_names\n",
    "data = dataset.data\n",
    "target = dataset.target"
   ]
  },
  {
   "cell_type": "code",
   "execution_count": 284,
   "id": "34a4a799-ffec-43f9-88c2-b228856a8fa4",
   "metadata": {},
   "outputs": [
    {
     "name": "stdout",
     "output_type": "stream",
     "text": [
      "['sepal length (cm)', 'sepal width (cm)']\n",
      "Data:  (100, 2) float64\n",
      "Target: (100,) float64\n",
      "[[5.1 3.5]\n",
      " [4.9 3. ]\n",
      " [4.7 3.2]\n",
      " [4.6 3.1]\n",
      " [5.  3.6]\n",
      " [5.4 3.9]\n",
      " [4.6 3.4]\n",
      " [5.  3.4]\n",
      " [4.4 2.9]\n",
      " [4.9 3.1]\n",
      " [5.4 3.7]\n",
      " [4.8 3.4]\n",
      " [4.8 3. ]\n",
      " [4.3 3. ]\n",
      " [5.8 4. ]\n",
      " [5.7 4.4]\n",
      " [5.4 3.9]\n",
      " [5.1 3.5]\n",
      " [5.7 3.8]\n",
      " [5.1 3.8]\n",
      " [5.4 3.4]\n",
      " [5.1 3.7]\n",
      " [4.6 3.6]\n",
      " [5.1 3.3]\n",
      " [4.8 3.4]\n",
      " [5.  3. ]\n",
      " [5.  3.4]\n",
      " [5.2 3.5]\n",
      " [5.2 3.4]\n",
      " [4.7 3.2]\n",
      " [4.8 3.1]\n",
      " [5.4 3.4]\n",
      " [5.2 4.1]\n",
      " [5.5 4.2]\n",
      " [4.9 3.1]\n",
      " [5.  3.2]\n",
      " [5.5 3.5]\n",
      " [4.9 3.6]\n",
      " [4.4 3. ]\n",
      " [5.1 3.4]\n",
      " [5.  3.5]\n",
      " [4.5 2.3]\n",
      " [4.4 3.2]\n",
      " [5.  3.5]\n",
      " [5.1 3.8]\n",
      " [4.8 3. ]\n",
      " [5.1 3.8]\n",
      " [4.6 3.2]\n",
      " [5.3 3.7]\n",
      " [5.  3.3]\n",
      " [7.  3.2]\n",
      " [6.4 3.2]\n",
      " [6.9 3.1]\n",
      " [5.5 2.3]\n",
      " [6.5 2.8]\n",
      " [5.7 2.8]\n",
      " [6.3 3.3]\n",
      " [4.9 2.4]\n",
      " [6.6 2.9]\n",
      " [5.2 2.7]\n",
      " [5.  2. ]\n",
      " [5.9 3. ]\n",
      " [6.  2.2]\n",
      " [6.1 2.9]\n",
      " [5.6 2.9]\n",
      " [6.7 3.1]\n",
      " [5.6 3. ]\n",
      " [5.8 2.7]\n",
      " [6.2 2.2]\n",
      " [5.6 2.5]\n",
      " [5.9 3.2]\n",
      " [6.1 2.8]\n",
      " [6.3 2.5]\n",
      " [6.1 2.8]\n",
      " [6.4 2.9]\n",
      " [6.6 3. ]\n",
      " [6.8 2.8]\n",
      " [6.7 3. ]\n",
      " [6.  2.9]\n",
      " [5.7 2.6]\n",
      " [5.5 2.4]\n",
      " [5.5 2.4]\n",
      " [5.8 2.7]\n",
      " [6.  2.7]\n",
      " [5.4 3. ]\n",
      " [6.  3.4]\n",
      " [6.7 3.1]\n",
      " [6.3 2.3]\n",
      " [5.6 3. ]\n",
      " [5.5 2.5]\n",
      " [5.5 2.6]\n",
      " [6.1 3. ]\n",
      " [5.8 2.6]\n",
      " [5.  2.3]\n",
      " [5.6 2.7]\n",
      " [5.7 3. ]\n",
      " [5.7 2.9]\n",
      " [6.2 2.9]\n",
      " [5.1 2.5]\n",
      " [5.7 2.8]]\n",
      "[0. 0. 0. 0. 0. 0. 0. 0. 0. 0. 0. 0. 0. 0. 0. 0. 0. 0. 0. 0. 0. 0. 0. 0.\n",
      " 0. 0. 0. 0. 0. 0. 0. 0. 0. 0. 0. 0. 0. 0. 0. 0. 0. 0. 0. 0. 0. 0. 0. 0.\n",
      " 0. 0. 1. 1. 1. 1. 1. 1. 1. 1. 1. 1. 1. 1. 1. 1. 1. 1. 1. 1. 1. 1. 1. 1.\n",
      " 1. 1. 1. 1. 1. 1. 1. 1. 1. 1. 1. 1. 1. 1. 1. 1. 1. 1. 1. 1. 1. 1. 1. 1.\n",
      " 1. 1. 1. 1.]\n"
     ]
    }
   ],
   "source": [
    "# preprocess the data to remove the third category so we have binary classification for now\n",
    "index = np.searchsorted(target, 2)\n",
    "\n",
    "data = data[:index]\n",
    "target = target[:index].astype(np.float64) # convert to float64\n",
    "\n",
    "data = data[:,:2] # use only 2 features\n",
    "names = names[:2] # use only 2 features\n",
    "\n",
    "print(names)\n",
    "print(\"Data: \", data.shape, data.dtype)\n",
    "print(\"Target:\", target.shape, target.dtype)\n",
    "\n",
    "print(data)\n",
    "print(target)"
   ]
  },
  {
   "cell_type": "code",
   "execution_count": 285,
   "id": "df1ccdee-91ab-4c12-abfb-3a9a3f05afee",
   "metadata": {},
   "outputs": [],
   "source": [
    "def sigmoid(x):\n",
    "    return 1 / (1 + np.exp(-x))"
   ]
  },
  {
   "cell_type": "code",
   "execution_count": 286,
   "id": "edc4bdea-ce88-4826-8427-9f97ac06023a",
   "metadata": {},
   "outputs": [],
   "source": [
    "def predict(w,b,x):\n",
    "    prediction = np.matmul(x, w) + b\n",
    "    \n",
    "    return sigmoid(prediction) # pass it through a sigmoid"
   ]
  },
  {
   "cell_type": "code",
   "execution_count": 287,
   "id": "dd4a067c-254a-44a5-b162-f5ae3293dcd9",
   "metadata": {},
   "outputs": [],
   "source": [
    "def log_loss_cost(w,b,x,y, epsilon=1e-15):\n",
    "    m = x.shape[0] # number of training examples\n",
    "    n = x.shape[1] # number of features\n",
    "    \n",
    "    prediction = sigmoid(np.matmul(x, w) + b) # mx1\n",
    "    prediction = np.clip(prediction, epsilon, 1 - epsilon) # clip prediction to avoid overflow issues\n",
    "    error = y * np.log(prediction) + (1 - y) * np.log(1 - prediction) # use logistic loss function\n",
    "    error = error.reshape((-1)) # m\n",
    "    \n",
    "    return np.sum(error) / -m"
   ]
  },
  {
   "cell_type": "code",
   "execution_count": 288,
   "id": "dc77e925-90c6-4c3a-b504-1f4ad70d1566",
   "metadata": {},
   "outputs": [],
   "source": [
    "def compute_loss_gradients(w,b,x,y):\n",
    "    m = x.shape[0] # number of training examples\n",
    "    n = x.shape[1] # number of features\n",
    "\n",
    "    prediction = sigmoid(np.matmul(x, w) + b) # mx1\n",
    "    error = prediction - y # mx1\n",
    "    \n",
    "    xT = np.transpose(x) # nxm\n",
    "    dw = np.matmul(xT, error) / m # nx1\n",
    "    db = np.sum(error) / m # 1\n",
    "\n",
    "    return dw, db"
   ]
  },
  {
   "cell_type": "code",
   "execution_count": 289,
   "id": "572ead30-e1a6-4a40-b41e-3485d36010b0",
   "metadata": {},
   "outputs": [],
   "source": [
    "def feature_scale(data_unscaled, scaled=True):\n",
    "    if scaled == False:\n",
    "        return data_unscaled\n",
    "\n",
    "    mu = np.mean(data_unscaled, axis=0)\n",
    "    std = np.std(data_unscaled, axis=0)\n",
    "\n",
    "    data_scaled = np.array(data_unscaled)\n",
    "    data_scaled = (data_scaled - mu) / std\n",
    "    # z score normalization\n",
    "    \n",
    "    return data_scaled\n",
    "\n",
    "data = feature_scale(data, scaled=True)"
   ]
  },
  {
   "cell_type": "code",
   "execution_count": 290,
   "id": "65ff60d9-c3e3-4607-b47f-4f111ea57d29",
   "metadata": {},
   "outputs": [],
   "source": [
    "def show_cost_graph(costs, title, color):\n",
    "    iterations = costs.shape[0]\n",
    "    iteration_array = np.arange(0, iterations, dtype=np.int32)\n",
    "    \n",
    "    # graph the cost after updating the model\n",
    "    fig, cost_graph = plt.subplots(layout='constrained')\n",
    "    \n",
    "    cost_graph.set_xlabel(\"Current Iteration\")\n",
    "    cost_graph.set_ylabel(\"Cost\")\n",
    "    \n",
    "    cost_graph.set_title(title)\n",
    "    \n",
    "    cost_graph.plot(iteration_array, costs, color=color)"
   ]
  },
  {
   "cell_type": "code",
   "execution_count": 291,
   "id": "554bee48-878a-4058-8955-22d8e42d4d92",
   "metadata": {},
   "outputs": [],
   "source": [
    "def gradient_descent(x, y, gradient_func, cost_func, learning_rate=0.01, max_iterations=1000):\n",
    "    y = y.reshape((-1,1))\n",
    "    m = x.shape[0] # number of training examples\n",
    "    n = x.shape[1] # number of features\n",
    "    \n",
    "    w = np.zeros((n,1)) # n features\n",
    "    b = 0\n",
    "    # initialize model parameters to zeroes\n",
    "    \n",
    "    costs = np.empty(0)\n",
    "\n",
    "    for i in range(max_iterations):\n",
    "        dw, db = gradient_func(w,b,x,y)\n",
    "        \n",
    "        w -= learning_rate * dw\n",
    "        b -= learning_rate * db\n",
    "        # update the weights\n",
    "        \n",
    "        current_cost = cost_func(w,b,x,y)\n",
    "        costs = np.append(costs, current_cost)\n",
    "        # add to array for visualization\n",
    "    return w, b, costs\n",
    "weights, intercept, standard_costs = gradient_descent(data, target, compute_loss_gradients, log_loss_cost, learning_rate=0.1, max_iterations=10000)"
   ]
  },
  {
   "cell_type": "code",
   "execution_count": 292,
   "id": "c3efc817",
   "metadata": {},
   "outputs": [],
   "source": [
    "frange=3\n",
    "samples=200\n",
    "x = np.linspace(-frange,frange,samples)\n",
    "y = np.linspace(-frange,frange,samples)\n",
    "nx, ny = np.meshgrid(x, y)\n",
    "xpoints = np.array([nx.ravel(),ny.ravel()]).T\n",
    "prediction = predict(weights,intercept,xpoints)\n",
    "classification = np.round(prediction).reshape((samples,-1))\n",
    "\n",
    "index = np.searchsorted(target, 1)\n",
    "data0 = data[:index,:]\n",
    "data1 = data[index:,:]"
   ]
  },
  {
   "cell_type": "code",
   "execution_count": 293,
   "id": "73e9c8bd",
   "metadata": {},
   "outputs": [
    {
     "data": {
      "text/plain": [
       "<matplotlib.legend.Legend at 0x174d0257080>"
      ]
     },
     "execution_count": 293,
     "metadata": {},
     "output_type": "execute_result"
    },
    {
     "data": {
      "application/vnd.jupyter.widget-view+json": {
       "model_id": "82a7a6fcf480405ea85153d3fe2d3827",
       "version_major": 2,
       "version_minor": 0
      },
      "image/png": "[encoded data removed]",
      "text/html": [
       "\n",
       "            <div style=\"display: inline-block;\">\n",
       "                <div class=\"jupyter-widgets widget-label\" style=\"text-align: center;\">\n",
       "                    Figure\n",
       "                </div>\n",
       "                <img src='data:image/png;base64,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' width=640.0/>\n",
       "            </div>\n",
       "        "
      ],
      "text/plain": [
       "Canvas(toolbar=Toolbar(toolitems=[('Home', 'Reset original view', 'home', 'home'), ('Back', 'Back to previous …"
      ]
     },
     "metadata": {},
     "output_type": "display_data"
    }
   ],
   "source": [
    "fig,ax = plt.subplots()\n",
    "ax.set_xlabel(\"Sepal Length\")\n",
    "ax.set_ylabel(\"Sepal Width\")\n",
    "ax.set_title(\"Boundary Line\")\n",
    "ax.contourf(nx,ny,classification)\n",
    "ax.scatter(data0[:,0],data0[:,1],c='white',label=\"Iris-Setosa\",s=5)\n",
    "ax.scatter(data1[:,0],data1[:,1],c='black',label=\"Iris-Versicolour\",s=5)\n",
    "ax.legend()"
   ]
  },
  {
   "cell_type": "markdown",
   "id": "1fcb1c4c",
   "metadata": {},
   "source": [
    "As we can see, the boundary line is very clean. The typical way to plot these boundaries is to use two features and plot the boundary that separates the two classifications. And clearly the boundary line estimates good. "
   ]
  },
  {
   "cell_type": "code",
   "execution_count": null,
   "id": "0dcfd8bc",
   "metadata": {},
   "outputs": [],
   "source": []
  }
 ],
 "metadata": {
  "kernelspec": {
   "display_name": "Python 3 (ipykernel)",
   "language": "python",
   "name": "python3"
  },
  "language_info": {
   "codemirror_mode": {
    "name": "ipython",
    "version": 3
   },
   "file_extension": ".py",
   "mimetype": "text/x-python",
   "name": "python",
   "nbconvert_exporter": "python",
   "pygments_lexer": "ipython3",
   "version": "3.12.3"
  }
 },
 "nbformat": 4,
 "nbformat_minor": 5
}
